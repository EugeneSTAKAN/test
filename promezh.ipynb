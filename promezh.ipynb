{
  "nbformat": 4,
  "nbformat_minor": 0,
  "metadata": {
    "colab": {
      "provenance": []
    },
    "kernelspec": {
      "name": "python3",
      "display_name": "Python 3"
    },
    "language_info": {
      "name": "python"
    }
  },
  "cells": [
    {
      "cell_type": "code",
      "execution_count": null,
      "metadata": {
        "id": "hzMd944qzIYo"
      },
      "outputs": [],
      "source": [
        "#импорт библиотеки\n",
        "import numpy as np"
      ]
    },
    {
      "cell_type": "code",
      "source": [
        "#массив из 10 нулей\n",
        "array=np.zeros(10)\n",
        "print(\"10 nuley:\")\n",
        "print(array)"
      ],
      "metadata": {
        "colab": {
          "base_uri": "https://localhost:8080/"
        },
        "id": "Rh7OK1NbzZnF",
        "outputId": "94481ada-a9a0-4d71-ca83-b26cc7421756"
      },
      "execution_count": null,
      "outputs": [
        {
          "output_type": "stream",
          "name": "stdout",
          "text": [
            "10 nuley:\n",
            "[0. 0. 0. 0. 0. 0. 0. 0. 0. 0.]\n"
          ]
        }
      ]
    },
    {
      "cell_type": "code",
      "source": [
        "#массив из 10 единиц\n",
        "array=np.ones(10)\n",
        "print(\"10 edinic\")\n",
        "print(array)"
      ],
      "metadata": {
        "colab": {
          "base_uri": "https://localhost:8080/"
        },
        "id": "wjZrQ3Ncz6Vw",
        "outputId": "2f204650-07eb-4d6f-d90a-73e8bb1da105"
      },
      "execution_count": null,
      "outputs": [
        {
          "output_type": "stream",
          "name": "stdout",
          "text": [
            "10 edinic\n",
            "[1. 1. 1. 1. 1. 1. 1. 1. 1. 1.]\n"
          ]
        }
      ]
    },
    {
      "cell_type": "code",
      "source": [
        "#массив из 10 пятерок\n",
        "array=np.ones(10)*5\n",
        "print(\"10 pyaterok:\")\n",
        "print(array)"
      ],
      "metadata": {
        "colab": {
          "base_uri": "https://localhost:8080/"
        },
        "id": "sKWga8sQ0CSd",
        "outputId": "0fc17d21-9b4f-4358-c961-8b8283f94ad4"
      },
      "execution_count": null,
      "outputs": [
        {
          "output_type": "stream",
          "name": "stdout",
          "text": [
            "10 pyaterok:\n",
            "[5. 5. 5. 5. 5. 5. 5. 5. 5. 5.]\n"
          ]
        }
      ]
    },
    {
      "cell_type": "code",
      "source": [
        "z=np.full(10,5)\n",
        "print(z)"
      ],
      "metadata": {
        "id": "E9TueTNehOXk"
      },
      "execution_count": null,
      "outputs": []
    },
    {
      "cell_type": "code",
      "source": [
        "#массив от 10 до 50\n",
        "array=np.arange(10,51)\n",
        "print(\"ot 10 do 50:\")\n",
        "print(array)"
      ],
      "metadata": {
        "colab": {
          "base_uri": "https://localhost:8080/",
          "height": 217
        },
        "id": "C-HbN0Cg0h9i",
        "outputId": "20a299b4-5fec-4481-8665-8643bb8cec6a"
      },
      "execution_count": null,
      "outputs": [
        {
          "output_type": "error",
          "ename": "NameError",
          "evalue": "ignored",
          "traceback": [
            "\u001b[0;31m---------------------------------------------------------------------------\u001b[0m",
            "\u001b[0;31mNameError\u001b[0m                                 Traceback (most recent call last)",
            "\u001b[0;32m<ipython-input-1-845b4999b96f>\u001b[0m in \u001b[0;36m<module>\u001b[0;34m\u001b[0m\n\u001b[1;32m      1\u001b[0m \u001b[0;31m#массив от 10 до 50\u001b[0m\u001b[0;34m\u001b[0m\u001b[0;34m\u001b[0m\u001b[0;34m\u001b[0m\u001b[0m\n\u001b[0;32m----> 2\u001b[0;31m \u001b[0marray\u001b[0m\u001b[0;34m=\u001b[0m\u001b[0mnp\u001b[0m\u001b[0;34m.\u001b[0m\u001b[0marange\u001b[0m\u001b[0;34m(\u001b[0m\u001b[0;36m10\u001b[0m\u001b[0;34m,\u001b[0m\u001b[0;36m51\u001b[0m\u001b[0;34m)\u001b[0m\u001b[0;34m\u001b[0m\u001b[0;34m\u001b[0m\u001b[0m\n\u001b[0m\u001b[1;32m      3\u001b[0m \u001b[0mprint\u001b[0m\u001b[0;34m(\u001b[0m\u001b[0;34m\"ot 10 do 50:\"\u001b[0m\u001b[0;34m)\u001b[0m\u001b[0;34m\u001b[0m\u001b[0;34m\u001b[0m\u001b[0m\n\u001b[1;32m      4\u001b[0m \u001b[0mprint\u001b[0m\u001b[0;34m(\u001b[0m\u001b[0marray\u001b[0m\u001b[0;34m)\u001b[0m\u001b[0;34m\u001b[0m\u001b[0;34m\u001b[0m\u001b[0m\n",
            "\u001b[0;31mNameError\u001b[0m: name 'np' is not defined"
          ]
        }
      ]
    },
    {
      "cell_type": "code",
      "source": [
        "array=np.arange(10,51,2)\n",
        "print(\"ot 10 do 50:\")\n",
        "print(array)"
      ],
      "metadata": {
        "colab": {
          "base_uri": "https://localhost:8080/"
        },
        "id": "SW8XDxLp1MbP",
        "outputId": "d16cad85-2c8c-4b33-f603-bc154427c0ea"
      },
      "execution_count": null,
      "outputs": [
        {
          "output_type": "stream",
          "name": "stdout",
          "text": [
            "ot 10 do 50:\n",
            "[10 12 14 16 18 20 22 24 26 28 30 32 34 36 38 40 42 44 46 48 50]\n"
          ]
        }
      ]
    },
    {
      "cell_type": "code",
      "source": [
        "for a in range(10, 51, 2):\n",
        "  print(a)"
      ],
      "metadata": {
        "colab": {
          "base_uri": "https://localhost:8080/"
        },
        "id": "szEd_nLGhrad",
        "outputId": "0cce11c2-3899-4e68-8ef0-25e2116359f1"
      },
      "execution_count": null,
      "outputs": [
        {
          "output_type": "stream",
          "name": "stdout",
          "text": [
            "10\n",
            "12\n",
            "14\n",
            "16\n",
            "18\n",
            "20\n",
            "22\n",
            "24\n",
            "26\n",
            "28\n",
            "30\n",
            "32\n",
            "34\n",
            "36\n",
            "38\n",
            "40\n",
            "42\n",
            "44\n",
            "46\n",
            "48\n",
            "50\n"
          ]
        }
      ]
    },
    {
      "cell_type": "code",
      "source": [
        "#матрица 3х3 с числами от 0 до 8\n",
        "matric =  np.arange(0, 9).reshape(3,3)\n",
        "print(matric)"
      ],
      "metadata": {
        "colab": {
          "base_uri": "https://localhost:8080/"
        },
        "id": "PgyBtoS31ivd",
        "outputId": "6e6a13a3-adf7-4913-cd27-7bfdd909cb6c"
      },
      "execution_count": null,
      "outputs": [
        {
          "output_type": "stream",
          "name": "stdout",
          "text": [
            "[[0 1 2]\n",
            " [3 4 5]\n",
            " [6 7 8]]\n"
          ]
        }
      ]
    },
    {
      "cell_type": "code",
      "source": [
        "#единич. матрица\n",
        "matric = np.eye(3)\n",
        "print(matric)"
      ],
      "metadata": {
        "colab": {
          "base_uri": "https://localhost:8080/"
        },
        "id": "mrQy7vgg13qU",
        "outputId": "e5bb0d5e-18e1-4c4d-ba6e-d1b39cef9cbc"
      },
      "execution_count": null,
      "outputs": [
        {
          "output_type": "stream",
          "name": "stdout",
          "text": [
            "[[1. 0. 0.]\n",
            " [0. 1. 0.]\n",
            " [0. 0. 1.]]\n"
          ]
        }
      ]
    },
    {
      "cell_type": "code",
      "source": [
        "#от 0 до 1 случ.\n",
        "rand = np.random.rand(1)\n",
        "print(\"ot 0 do 1\")\n",
        "print(rand)"
      ],
      "metadata": {
        "colab": {
          "base_uri": "https://localhost:8080/"
        },
        "id": "eF1MdbGG2f0n",
        "outputId": "3b89681b-134b-476d-ca2d-976c9e79039e"
      },
      "execution_count": null,
      "outputs": [
        {
          "output_type": "stream",
          "name": "stdout",
          "text": [
            "ot 0 do 1\n",
            "[0.85743579]\n"
          ]
        }
      ]
    },
    {
      "cell_type": "code",
      "source": [
        "a=np.random.rand()\n",
        "print(a)"
      ],
      "metadata": {
        "colab": {
          "base_uri": "https://localhost:8080/"
        },
        "id": "Yte2aUGujwj8",
        "outputId": "a6e4c8d1-abbb-46d0-a8c8-8e7fb646bb1c"
      },
      "execution_count": null,
      "outputs": [
        {
          "output_type": "stream",
          "name": "stdout",
          "text": [
            "0.5582320725014768\n"
          ]
        }
      ]
    },
    {
      "cell_type": "code",
      "source": [
        "rand = np.random.rand(25)\n",
        "print(\"25 random numbers:\")\n",
        "print(rand)"
      ],
      "metadata": {
        "colab": {
          "base_uri": "https://localhost:8080/"
        },
        "id": "M-fwia2U2fpE",
        "outputId": "8bd93b14-cef3-40b8-86e5-d8b6de9b2bca"
      },
      "execution_count": null,
      "outputs": [
        {
          "output_type": "stream",
          "name": "stdout",
          "text": [
            "25 random numbers:\n",
            "[0.20561384 0.32389806 0.25420958 0.18623343 0.9898214  0.93585986\n",
            " 0.47158995 0.81775157 0.78704254 0.09842721 0.72113033 0.51288986\n",
            " 0.70382396 0.48652772 0.44161927 0.8798196  0.21551697 0.6555605\n",
            " 0.52212858 0.7262429  0.11294877 0.24382585 0.20455466 0.1633383\n",
            " 0.09618881]\n"
          ]
        }
      ]
    },
    {
      "cell_type": "code",
      "source": [
        "arr=np.random.rand(7,4)\n",
        "print(arr)"
      ],
      "metadata": {
        "colab": {
          "base_uri": "https://localhost:8080/"
        },
        "id": "MV8DrwKFkME_",
        "outputId": "97fe8bd5-ece1-488e-e1e9-25e6ca9a7abe"
      },
      "execution_count": null,
      "outputs": [
        {
          "output_type": "stream",
          "name": "stdout",
          "text": [
            "[[0.98531117 0.93058163 0.29636505 0.8206408 ]\n",
            " [0.8064953  0.7453414  0.24416499 0.91468498]\n",
            " [0.62527348 0.91592379 0.93984699 0.51848745]\n",
            " [0.78767015 0.19790448 0.58346422 0.328433  ]\n",
            " [0.25142253 0.78351948 0.40429008 0.75560187]\n",
            " [0.69038154 0.95541366 0.76806028 0.75320672]\n",
            " [0.56163699 0.49543947 0.33981057 0.86872928]]\n"
          ]
        }
      ]
    },
    {
      "cell_type": "code",
      "source": [
        "mat = np.arange(0.01, 1.01, 0.01).reshape(10, 10)\n",
        "print(mat)"
      ],
      "metadata": {
        "colab": {
          "base_uri": "https://localhost:8080/"
        },
        "id": "OD1V_9O64hsj",
        "outputId": "54e6043c-a1ea-4472-d58b-cd8d059fc24e"
      },
      "execution_count": null,
      "outputs": [
        {
          "output_type": "stream",
          "name": "stdout",
          "text": [
            "[[0.01 0.02 0.03 0.04 0.05 0.06 0.07 0.08 0.09 0.1 ]\n",
            " [0.11 0.12 0.13 0.14 0.15 0.16 0.17 0.18 0.19 0.2 ]\n",
            " [0.21 0.22 0.23 0.24 0.25 0.26 0.27 0.28 0.29 0.3 ]\n",
            " [0.31 0.32 0.33 0.34 0.35 0.36 0.37 0.38 0.39 0.4 ]\n",
            " [0.41 0.42 0.43 0.44 0.45 0.46 0.47 0.48 0.49 0.5 ]\n",
            " [0.51 0.52 0.53 0.54 0.55 0.56 0.57 0.58 0.59 0.6 ]\n",
            " [0.61 0.62 0.63 0.64 0.65 0.66 0.67 0.68 0.69 0.7 ]\n",
            " [0.71 0.72 0.73 0.74 0.75 0.76 0.77 0.78 0.79 0.8 ]\n",
            " [0.81 0.82 0.83 0.84 0.85 0.86 0.87 0.88 0.89 0.9 ]\n",
            " [0.91 0.92 0.93 0.94 0.95 0.96 0.97 0.98 0.99 1.  ]]\n"
          ]
        }
      ]
    },
    {
      "cell_type": "code",
      "source": [
        "mat = np.arange(1,26).reshape(5,5)\n",
        "print(mat)"
      ],
      "metadata": {
        "colab": {
          "base_uri": "https://localhost:8080/"
        },
        "id": "Pk02Ybbd78rk",
        "outputId": "27e86069-16ed-4a61-aeb6-592c2585ea9c"
      },
      "execution_count": null,
      "outputs": [
        {
          "output_type": "stream",
          "name": "stdout",
          "text": [
            "[[ 1  2  3  4  5]\n",
            " [ 6  7  8  9 10]\n",
            " [11 12 13 14 15]\n",
            " [16 17 18 19 20]\n",
            " [21 22 23 24 25]]\n"
          ]
        }
      ]
    },
    {
      "cell_type": "code",
      "source": [
        "print('array =', mat[2:, 1:])"
      ],
      "metadata": {
        "colab": {
          "base_uri": "https://localhost:8080/"
        },
        "id": "rYoq4iob-gUW",
        "outputId": "9baa498c-a3fd-4119-e94d-4dbac5c84ee7"
      },
      "execution_count": null,
      "outputs": [
        {
          "output_type": "stream",
          "name": "stdout",
          "text": [
            "array = [[12 13 14 15]\n",
            " [17 18 19 20]\n",
            " [22 23 24 25]]\n"
          ]
        }
      ]
    },
    {
      "cell_type": "code",
      "source": [
        "dv = mat[mat == 20]\n",
        "print(dv)"
      ],
      "metadata": {
        "colab": {
          "base_uri": "https://localhost:8080/"
        },
        "id": "Q7v4o6B8R_Vd",
        "outputId": "d40ca0b0-448d-4df1-ce0b-67e81b4d8670"
      },
      "execution_count": null,
      "outputs": [
        {
          "output_type": "stream",
          "name": "stdout",
          "text": [
            "[20]\n"
          ]
        }
      ]
    },
    {
      "cell_type": "code",
      "source": [
        "print('array =', mat[0:3, 1].reshape(3,1))"
      ],
      "metadata": {
        "colab": {
          "base_uri": "https://localhost:8080/"
        },
        "id": "FMr6kLg9SfOJ",
        "outputId": "a72cb321-fa25-4e2a-8204-6294ce17cfcb"
      },
      "execution_count": null,
      "outputs": [
        {
          "output_type": "stream",
          "name": "stdout",
          "text": [
            "array = [[ 2]\n",
            " [ 7]\n",
            " [12]]\n"
          ]
        }
      ]
    },
    {
      "cell_type": "code",
      "source": [
        "mat=np.arange(1,26).reshape(5,5)\n",
        "print(mat[0:3, 1:2])"
      ],
      "metadata": {
        "colab": {
          "base_uri": "https://localhost:8080/"
        },
        "id": "WariZdJJmduS",
        "outputId": "0a114b82-84c0-4aef-8dbe-f26718b1e0a9"
      },
      "execution_count": null,
      "outputs": [
        {
          "output_type": "stream",
          "name": "stdout",
          "text": [
            "[[ 2]\n",
            " [ 7]\n",
            " [12]]\n"
          ]
        }
      ]
    },
    {
      "cell_type": "code",
      "source": [
        "print('array =', mat[4:])"
      ],
      "metadata": {
        "colab": {
          "base_uri": "https://localhost:8080/"
        },
        "id": "4C5b0-B7S6MF",
        "outputId": "d9e9a03a-7068-4d61-92c8-af9235e30776"
      },
      "execution_count": null,
      "outputs": [
        {
          "output_type": "stream",
          "name": "stdout",
          "text": [
            "array = [[21 22 23 24 25]]\n"
          ]
        }
      ]
    },
    {
      "cell_type": "code",
      "source": [
        "print('array =', mat[3:])"
      ],
      "metadata": {
        "colab": {
          "base_uri": "https://localhost:8080/"
        },
        "id": "tO664cyGT50r",
        "outputId": "45ed7de7-73cf-4213-9d8c-cd788920fdf0"
      },
      "execution_count": null,
      "outputs": [
        {
          "output_type": "stream",
          "name": "stdout",
          "text": [
            "array = [[16 17 18 19 20]\n",
            " [21 22 23 24 25]]\n"
          ]
        }
      ]
    },
    {
      "cell_type": "code",
      "source": [
        "print(mat.sum())"
      ],
      "metadata": {
        "colab": {
          "base_uri": "https://localhost:8080/"
        },
        "id": "E3ozWfboUsQe",
        "outputId": "382aa08e-d269-4fef-bc5c-a1ade62f2f18"
      },
      "execution_count": null,
      "outputs": [
        {
          "output_type": "stream",
          "name": "stdout",
          "text": [
            "325\n"
          ]
        }
      ]
    },
    {
      "cell_type": "code",
      "source": [
        "print(mat.std())"
      ],
      "metadata": {
        "colab": {
          "base_uri": "https://localhost:8080/"
        },
        "id": "R9rLo_tvUsMl",
        "outputId": "adfeb845-4073-471a-949b-d247804e2234"
      },
      "execution_count": null,
      "outputs": [
        {
          "output_type": "stream",
          "name": "stdout",
          "text": [
            "7.211102550927978\n"
          ]
        }
      ]
    },
    {
      "cell_type": "code",
      "source": [
        "print(mat.sum(axis=0))"
      ],
      "metadata": {
        "colab": {
          "base_uri": "https://localhost:8080/"
        },
        "id": "SNO8ATJUUz2y",
        "outputId": "45a12079-14f9-4f8d-cf87-c38831cbc57c"
      },
      "execution_count": null,
      "outputs": [
        {
          "output_type": "stream",
          "name": "stdout",
          "text": [
            "[55 60 65 70 75]\n"
          ]
        }
      ]
    },
    {
      "cell_type": "code",
      "source": [
        "#dop\n",
        "#матрица с рандомными знач. 3х3х3\n",
        "Z = np.random.random((3,3,3))\n",
        "print(Z)"
      ],
      "metadata": {
        "colab": {
          "base_uri": "https://localhost:8080/"
        },
        "id": "8-ArPSE6PWOg",
        "outputId": "364fa8e8-8f35-4359-9858-1ef18d952088"
      },
      "execution_count": null,
      "outputs": [
        {
          "output_type": "stream",
          "name": "stdout",
          "text": [
            "[[[0.39271922 0.32654824 0.52763857]\n",
            "  [0.30279102 0.72621221 0.53236416]\n",
            "  [0.60060995 0.88217839 0.87283896]]\n",
            "\n",
            " [[0.23216679 0.1176809  0.49331302]\n",
            "  [0.02245216 0.20580649 0.6154609 ]\n",
            "  [0.29883415 0.66426409 0.01897479]]\n",
            "\n",
            " [[0.17064675 0.65278214 0.83759704]\n",
            "  [0.29111219 0.97225507 0.48095733]\n",
            "  [0.96188183 0.64898012 0.31120555]]]\n"
          ]
        }
      ]
    },
    {
      "cell_type": "code",
      "source": [
        "#рандом. матрица + минимум и максимум\n",
        "Z = np.random.random((10,10))\n",
        "Zmin, Zmax = Z.min(), Z.max()\n",
        "print(Z, \"                     \", Zmin, Zmax)"
      ],
      "metadata": {
        "colab": {
          "base_uri": "https://localhost:8080/"
        },
        "id": "v76jw8s5P9qU",
        "outputId": "eb8a300b-2770-49fb-dc6b-37679e5f7500"
      },
      "execution_count": null,
      "outputs": [
        {
          "output_type": "stream",
          "name": "stdout",
          "text": [
            "[[0.53048178 0.03622129 0.79465928 0.07134783 0.72888314 0.27926684\n",
            "  0.26055998 0.2028793  0.09187171 0.61883744]\n",
            " [0.97679601 0.89293385 0.87436053 0.28362858 0.47500904 0.79867842\n",
            "  0.81520028 0.92616554 0.09481199 0.93656922]\n",
            " [0.38976678 0.32471265 0.10774983 0.91413717 0.7268195  0.30180203\n",
            "  0.80121609 0.41166687 0.78925825 0.28491558]\n",
            " [0.80264067 0.18135133 0.40645522 0.63327869 0.18006798 0.85428491\n",
            "  0.38070411 0.81466516 0.63166948 0.30788819]\n",
            " [0.33976833 0.51560622 0.79501165 0.48408956 0.44226199 0.45856306\n",
            "  0.28556946 0.82032578 0.46346903 0.60556953]\n",
            " [0.8317668  0.33432258 0.17717061 0.57899693 0.73583673 0.5612031\n",
            "  0.82067853 0.34816334 0.67785079 0.56522616]\n",
            " [0.69079814 0.96905131 0.54019062 0.67719114 0.72446178 0.90310405\n",
            "  0.41425937 0.69802098 0.61062313 0.18932369]\n",
            " [0.20465165 0.76377258 0.23337882 0.12712047 0.97843926 0.49724698\n",
            "  0.74888893 0.11936655 0.26498775 0.22124715]\n",
            " [0.83740873 0.3283955  0.70707915 0.37292628 0.60910051 0.54492572\n",
            "  0.04519198 0.20714997 0.54411598 0.75925512]\n",
            " [0.60394218 0.6976938  0.27164709 0.83201771 0.70881456 0.60429762\n",
            "  0.5365129  0.94435211 0.74343814 0.81145789]]                       0.036221291724048976 0.9784392568503998\n"
          ]
        }
      ]
    },
    {
      "cell_type": "code",
      "source": [
        "#выявление ненулевых элементов массива\n",
        "x = np.array([1, 0, 0, 0])\n",
        "print(\"Массив\")\n",
        "print(x)\n",
        "print(\"Есть ненулевые элементы:\")\n",
        "print(np.any(x))\n",
        "x = np.array([0, 0, 0, 0])\n",
        "print(\"Массив\")\n",
        "print(x)\n",
        "print(\"Есть ненулевые элементы:\")\n",
        "print(np.any(x))\n",
        "x = np.array([0, 0, 1, 1])\n",
        "print(\"Массив\")\n",
        "print(x)\n",
        "print(\"Есть ненулевые элементы:\")\n",
        "print(np.any(x))"
      ],
      "metadata": {
        "colab": {
          "base_uri": "https://localhost:8080/"
        },
        "id": "9fLqPoYUTSsv",
        "outputId": "ec48548b-45fe-48cf-fb2b-ad9fcee06abf"
      },
      "execution_count": null,
      "outputs": [
        {
          "output_type": "stream",
          "name": "stdout",
          "text": [
            "Массив\n",
            "[1 0 0 0]\n",
            "Есть ненулевые элементы:\n",
            "True\n",
            "Массив\n",
            "[0 0 0 0]\n",
            "Есть ненулевые элементы:\n",
            "False\n",
            "Массив\n",
            "[0 0 1 1]\n",
            "Есть ненулевые элементы:\n",
            "True\n"
          ]
        }
      ]
    }
  ]
}